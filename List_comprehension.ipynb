{
  "cells": [
    {
      "cell_type": "markdown",
      "metadata": {
        "id": "view-in-github",
        "colab_type": "text"
      },
      "source": [
        "<a href=\"https://colab.research.google.com/github/grgupta13/PythonProgramming/blob/main/List_comprehension.ipynb\" target=\"_parent\"><img src=\"https://colab.research.google.com/assets/colab-badge.svg\" alt=\"Open In Colab\"/></a>"
      ]
    },
    {
      "cell_type": "markdown",
      "id": "b9576ca8",
      "metadata": {
        "id": "b9576ca8"
      },
      "source": [
        "List comprehension is faster than using normal for loop, map, reduce and filter. Where conditions are less, you should go for list comprhension.\n",
        "List comprehension are applied on ordered data items in python like list, dicitonary and tuple etc. List comprehension can not be used for unordered data items like set. \n",
        "The syntax for list comprehension is as follows:\n",
        "            ```[output parameter|the Iterable|Condition]```\n",
        "In the following section, we will see ways to apply list comprehension. \n",
        "These are the following ways we can use list comprehension:"
      ]
    },
    {
      "cell_type": "markdown",
      "id": "8e44453d",
      "metadata": {
        "id": "8e44453d"
      },
      "source": [
        "### 1. Initializing a list using iterator:"
      ]
    },
    {
      "cell_type": "code",
      "source": [
        "import time\n",
        "from timeit import default_timer as timer"
      ],
      "metadata": {
        "id": "B8n0T8KJnPC3"
      },
      "id": "B8n0T8KJnPC3",
      "execution_count": null,
      "outputs": []
    },
    {
      "cell_type": "code",
      "execution_count": null,
      "id": "f8371409",
      "metadata": {
        "colab": {
          "base_uri": "https://localhost:8080/"
        },
        "id": "f8371409",
        "outputId": "ade7fa91-18b3-4e53-c2e5-3631217b5e29"
      },
      "outputs": [
        {
          "output_type": "stream",
          "name": "stdout",
          "text": [
            "time taken: 0.0002001610000661458\n"
          ]
        }
      ],
      "source": [
        "#using for loop\n",
        "start_time = timer()\n",
        "num_list = []\n",
        "for x in range(0,20):\n",
        "    num_list.append(x)\n",
        "end_time  = timer()\n",
        "print(\"time taken:\",end_time-start_time)# returns time in seconds\n",
        "# takes 0.0002 seconds\n"
      ]
    },
    {
      "cell_type": "code",
      "execution_count": null,
      "id": "dfe3158b",
      "metadata": {
        "colab": {
          "base_uri": "https://localhost:8080/"
        },
        "id": "dfe3158b",
        "outputId": "9b5292f3-18d7-40f6-98a5-e5738f86776b"
      },
      "outputs": [
        {
          "output_type": "stream",
          "name": "stdout",
          "text": [
            "time taken: 0.00014884000006532006\n"
          ]
        }
      ],
      "source": [
        "#Using list comprehension\n",
        "start_time = timer()\n",
        "num_list = [x for x in range(0,20)]\n",
        "end_time  = timer()\n",
        "print(\"time taken:\",end_time-start_time)# returns time in seconds\n",
        "#takes .0001 seconds"
      ]
    },
    {
      "cell_type": "markdown",
      "id": "ae15046a",
      "metadata": {
        "id": "ae15046a"
      },
      "source": [
        "### 2. Initialize a List Using Iterator with single If Condition\n"
      ]
    },
    {
      "cell_type": "code",
      "execution_count": null,
      "id": "23010592",
      "metadata": {
        "colab": {
          "base_uri": "https://localhost:8080/"
        },
        "id": "23010592",
        "outputId": "39e5d8c3-5fa3-4a76-9f4f-2347bf6bc902"
      },
      "outputs": [
        {
          "output_type": "stream",
          "name": "stdout",
          "text": [
            "time taken: 0.00017372799993609078\n"
          ]
        }
      ],
      "source": [
        "#using for loop\n",
        "start_time = timer()\n",
        "num_even_list = []\n",
        "for x in range(0,20):\n",
        "    if x%2 == 0:\n",
        "        num_even_list.append(x)\n",
        "end_time  = timer()\n",
        "print(\"time taken:\",end_time-start_time)# returns time in seconds       \n",
        "\n"
      ]
    },
    {
      "cell_type": "markdown",
      "source": [
        "\n",
        "# 3. Initialize a List Using Iterator with single If -Else Block Condition"
      ],
      "metadata": {
        "id": "qS6q1jJE-H04"
      },
      "id": "qS6q1jJE-H04"
    },
    {
      "cell_type": "code",
      "execution_count": null,
      "id": "7e637fba",
      "metadata": {
        "colab": {
          "base_uri": "https://localhost:8080/"
        },
        "id": "7e637fba",
        "outputId": "c0ecc0a9-7baf-4a1f-d7e5-ea174bc3fa3c"
      },
      "outputs": [
        {
          "output_type": "stream",
          "name": "stdout",
          "text": [
            "time taken: 8.571800003664976e-05\n"
          ]
        }
      ],
      "source": [
        "#using list comprehension\n",
        "start_time = timer()\n",
        "num_even_list = [x for x in range(0,20) if x%2==0]\n",
        "end_time  = timer()\n",
        "print(\"time taken:\",end_time-start_time)# returns time in seconds"
      ]
    },
    {
      "cell_type": "code",
      "source": [
        "#using for loop\n",
        "start_time = timer()\n",
        "num_even_list = []\n",
        "for x in range(0,20):\n",
        "    if x%2 == 0:\n",
        "        num_even_list.append(\"Even\")\n",
        "    else:\n",
        "      num_even_list.append(\"Odd\")\n",
        "end_time  = timer()\n",
        "print(\"time taken:\",end_time-start_time)# returns time in seconds   "
      ],
      "metadata": {
        "colab": {
          "base_uri": "https://localhost:8080/"
        },
        "id": "bbkQ52ye-OnO",
        "outputId": "0f9581cc-c3f7-4e19-b450-8f68c3b749c0"
      },
      "id": "bbkQ52ye-OnO",
      "execution_count": null,
      "outputs": [
        {
          "output_type": "stream",
          "name": "stdout",
          "text": [
            "time taken: 0.00020256100015103584\n"
          ]
        }
      ]
    },
    {
      "cell_type": "code",
      "source": [
        "#using list comprehension\n",
        "start_time = timer()\n",
        "num_even_list = [\"Even\" if x%2 ==0 else \"Odd\" for x in range(0,20) ]\n",
        "end_time  = timer()\n",
        "print(\"time taken:\",end_time-start_time)# returns time in seconds"
      ],
      "metadata": {
        "colab": {
          "base_uri": "https://localhost:8080/"
        },
        "id": "X5feEUaz-SIz",
        "outputId": "b8288ec9-8728-44cd-b042-d2c6f393159e"
      },
      "id": "X5feEUaz-SIz",
      "execution_count": null,
      "outputs": [
        {
          "output_type": "stream",
          "name": "stdout",
          "text": [
            "time taken: 0.00010285900043527363\n"
          ]
        }
      ]
    },
    {
      "cell_type": "markdown",
      "source": [
        "# 4. Initialize a List Using Nested If"
      ],
      "metadata": {
        "id": "Ns_ldiRsaYKy"
      },
      "id": "Ns_ldiRsaYKy"
    },
    {
      "cell_type": "code",
      "source": [
        "#using for loop\n",
        "start_time = timer()\n",
        "num_list = []\n",
        "for x in range(0,100):\n",
        "    if x%3 == 0:\n",
        "        if x%9 == 0:\n",
        "            num_list.append(x**2)\n",
        "print(num_list)\n",
        "end_time  = timer()\n",
        "print(\"time taken:\",end_time-start_time)# returns time in seconds   "
      ],
      "metadata": {
        "colab": {
          "base_uri": "https://localhost:8080/"
        },
        "id": "ZHHqlBdOafp5",
        "outputId": "3e94a1d3-508e-471b-b3f6-446c963a9c58"
      },
      "id": "ZHHqlBdOafp5",
      "execution_count": null,
      "outputs": [
        {
          "output_type": "stream",
          "name": "stdout",
          "text": [
            "[0, 81, 324, 729, 1296, 2025, 2916, 3969, 5184, 6561, 8100, 9801]\n",
            "time taken: 0.0029110350005794317\n"
          ]
        }
      ]
    },
    {
      "cell_type": "code",
      "source": [
        "#using list comprehension\n",
        "start_time = timer()\n",
        "num_list = [x**2  for x in range(0,100) if x%3 ==0 if x%9 ==0 ]\n",
        "print(num_list)\n",
        "end_time  = timer()\n",
        "print(\"time taken:\",end_time-start_time)# returns time in seconds"
      ],
      "metadata": {
        "colab": {
          "base_uri": "https://localhost:8080/"
        },
        "id": "9EtP_4BAaftx",
        "outputId": "e9bbba8a-37fd-4aab-842a-2b3428c06235"
      },
      "id": "9EtP_4BAaftx",
      "execution_count": null,
      "outputs": [
        {
          "output_type": "stream",
          "name": "stdout",
          "text": [
            "[0, 81, 324, 729, 1296, 2025, 2916, 3969, 5184, 6561, 8100, 9801]\n",
            "time taken: 0.00037909399907221086\n"
          ]
        }
      ]
    },
    {
      "cell_type": "markdown",
      "source": [
        "# 5. Initialize a List Using Nested List Comprehension"
      ],
      "metadata": {
        "id": "hCR6TwR9L3T4"
      },
      "id": "hCR6TwR9L3T4"
    },
    {
      "cell_type": "code",
      "source": [
        "#using for loop\n",
        "start_time = timer()\n",
        "matrix =[]\n",
        "for i in range(1,100):\n",
        "    row =[]\n",
        "    for j in range(1,3):\n",
        "        row.append(i+j)\n",
        "    matrix.append(row)\n",
        "end_time  = timer()\n",
        "print(\"time taken:\",end_time-start_time)# returns time in seconds"
      ],
      "metadata": {
        "colab": {
          "base_uri": "https://localhost:8080/"
        },
        "id": "rdN_URNrMCxA",
        "outputId": "79523e0d-76c3-41a0-acfd-ec9836349555"
      },
      "id": "rdN_URNrMCxA",
      "execution_count": null,
      "outputs": [
        {
          "output_type": "stream",
          "name": "stdout",
          "text": [
            "time taken: 0.00037956999949528836\n"
          ]
        }
      ]
    },
    {
      "cell_type": "code",
      "source": [
        "#using list comprehension\n",
        "start_time = timer()\n",
        "matrix = [i+j for j in range(1,3) for i in range(1,100)]\n",
        "end_time  = timer()\n",
        "print(\"time taken:\",end_time-start_time)# returns time in seconds"
      ],
      "metadata": {
        "colab": {
          "base_uri": "https://localhost:8080/"
        },
        "id": "ft5lH6LYMC3y",
        "outputId": "ff10a941-14ac-4019-e388-a4bb4f780fe7"
      },
      "id": "ft5lH6LYMC3y",
      "execution_count": null,
      "outputs": [
        {
          "output_type": "stream",
          "name": "stdout",
          "text": [
            "time taken: 0.00016983299974526744\n"
          ]
        }
      ]
    },
    {
      "cell_type": "markdown",
      "id": "2cc09495",
      "metadata": {
        "id": "2cc09495"
      },
      "source": [
        "### 6. Initialize a Dictionary using iterator"
      ]
    },
    {
      "cell_type": "code",
      "execution_count": null,
      "id": "21c16394",
      "metadata": {
        "colab": {
          "base_uri": "https://localhost:8080/"
        },
        "id": "21c16394",
        "outputId": "c287fe02-dd81-48d6-8afd-f6c08ea26cf9"
      },
      "outputs": [
        {
          "output_type": "stream",
          "name": "stdout",
          "text": [
            "6.29 µs ± 106 ns per loop (mean ± std. dev. of 7 runs, 100000 loops each)\n"
          ]
        }
      ],
      "source": [
        "def initialize_dict():\n",
        "    num_cube_dict = {}\n",
        "    for x in range(0,20):\n",
        "        num_cube_dict[x] = x**3\n",
        "%timeit initialize_dict()"
      ]
    },
    {
      "cell_type": "code",
      "execution_count": null,
      "id": "2c1740ae",
      "metadata": {
        "colab": {
          "base_uri": "https://localhost:8080/"
        },
        "id": "2c1740ae",
        "outputId": "0e5efd51-ac3f-425a-90af-228a3c130539"
      },
      "outputs": [
        {
          "output_type": "stream",
          "name": "stdout",
          "text": [
            "6.22 µs ± 42.6 ns per loop (mean ± std. dev. of 7 runs, 100000 loops each)\n"
          ]
        }
      ],
      "source": [
        "#Here we will initialize dictionary \n",
        "%timeit num_cube_dict ={x:x**3 for x in range(0, 20)}"
      ]
    }
  ],
  "metadata": {
    "kernelspec": {
      "display_name": "Python 3 (ipykernel)",
      "language": "python",
      "name": "python3"
    },
    "language_info": {
      "codemirror_mode": {
        "name": "ipython",
        "version": 3
      },
      "file_extension": ".py",
      "mimetype": "text/x-python",
      "name": "python",
      "nbconvert_exporter": "python",
      "pygments_lexer": "ipython3",
      "version": "3.9.12"
    },
    "colab": {
      "name": "List_comprehension.ipynb",
      "provenance": [],
      "collapsed_sections": [],
      "include_colab_link": true
    }
  },
  "nbformat": 4,
  "nbformat_minor": 5
}