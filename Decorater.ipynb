{
  "nbformat": 4,
  "nbformat_minor": 0,
  "metadata": {
    "colab": {
      "name": "Decorater.ipynb",
      "provenance": [],
      "collapsed_sections": [],
      "authorship_tag": "ABX9TyPiUy/RNXDD2Vf1KF1c1eQj",
      "include_colab_link": true
    },
    "kernelspec": {
      "name": "python3",
      "display_name": "Python 3"
    },
    "language_info": {
      "name": "python"
    }
  },
  "cells": [
    {
      "cell_type": "markdown",
      "metadata": {
        "id": "view-in-github",
        "colab_type": "text"
      },
      "source": [
        "<a href=\"https://colab.research.google.com/github/grgupta13/PythonProgramming/blob/main/Decorater.ipynb\" target=\"_parent\"><img src=\"https://colab.research.google.com/assets/colab-badge.svg\" alt=\"Open In Colab\"/></a>"
      ]
    },
    {
      "cell_type": "markdown",
      "source": [
        "**All about Decorators in Python**\n",
        "\n",
        "There is a unique feature which is named as decorators. In simplest anology, decorator is the process of decorating an existing thing, place or gift. Or it can also be understood as adding new functionalities to existing things. \n",
        "There are many definitions that are quite popular for decorator. One of them is that -\n",
        "\n",
        "*The decorator is a design pattern that accepts function as an argument, adds new functionality to it and return a function.*\n",
        "\n",
        "*A decorator is a design pattern in Python that allows a user to add new functionality to an existing object without modifying its structure.* \n",
        "\n",
        "\n",
        "> Indented block\n",
        "\n",
        "\n",
        "In python, everything is treated as an object, therfore the function is also an object. Functions in python are also known as first class citizens as function can be passed as an argument and can be returned, modified and assigned to varibale. These forms the basic building blocks for decorators. Let's understand these concept first then we will discuss decorators."
      ],
      "metadata": {
        "id": "AiJwqjh_t78S"
      }
    },
    {
      "cell_type": "markdown",
      "source": [
        "# **1. Functions can be assigned to variable:**"
      ],
      "metadata": {
        "id": "DG4IHfLfuKW4"
      }
    },
    {
      "cell_type": "code",
      "execution_count": 1,
      "metadata": {
        "id": "xRCVKN0AolG9",
        "colab": {
          "base_uri": "https://localhost:8080/"
        },
        "outputId": "2d168d48-bae7-4034-ccff-5e31ee00e745"
      },
      "outputs": [
        {
          "output_type": "stream",
          "name": "stdout",
          "text": [
            "Number 5 is odd\n"
          ]
        }
      ],
      "source": [
        "#Declaring a function\n",
        "def checkEven(number):\n",
        "  if number%2 == 0:\n",
        "    print(f\"Number {number} is even\")\n",
        "  else:\n",
        "    print(f\"Number {number} is odd\")\n",
        "\n",
        "funcVar = checkEven #function is assigned to variable\n",
        "funcVar(5)\n"
      ]
    },
    {
      "cell_type": "markdown",
      "source": [
        "# **2. Function Can be Passed as an Argument:**"
      ],
      "metadata": {
        "id": "Puk2z-_Nv7L1"
      }
    },
    {
      "cell_type": "code",
      "source": [
        "#func is an function passed as an argument\n",
        "def info(func):\n",
        "  print(f\" The function passed as an argument is {func.__name__}\")\n",
        "  number = 10\n",
        "  func(5)\n",
        "# We will pass the above defined checkEven function as an argument to info() function\n",
        "info(checkEven) \n"
      ],
      "metadata": {
        "colab": {
          "base_uri": "https://localhost:8080/"
        },
        "id": "cHebjl-vuowA",
        "outputId": "e01fe286-e5bc-4594-9c27-626fba2fedd6"
      },
      "execution_count": 4,
      "outputs": [
        {
          "output_type": "stream",
          "name": "stdout",
          "text": [
            " The function passed as an argument is checkEven\n",
            "Number 5 is odd\n"
          ]
        }
      ]
    },
    {
      "cell_type": "markdown",
      "source": [
        "# **3. Function can Return Another Function:**"
      ],
      "metadata": {
        "id": "Zd5xnlzbxgAd"
      }
    },
    {
      "cell_type": "code",
      "source": [
        "#note: info() doesn't take argument but uses its outer function argument\n",
        "def square(number):\n",
        "  def info():\n",
        "    if number%2 == 0:\n",
        "      print(f\"The number {number} is even\")\n",
        "    else:\n",
        "      print(f\"The number {number} is odd\")\n",
        "    print(f\"The square is : {number**2}\")\n",
        "  return info\n",
        "returned_function = square(10) # square() returns info() function\n",
        "returned_function()# You don't need to pass any argument"
      ],
      "metadata": {
        "colab": {
          "base_uri": "https://localhost:8080/"
        },
        "id": "F7_K763ExgQl",
        "outputId": "e5095233-fcb0-45d6-c90e-e87c072eb6aa"
      },
      "execution_count": 10,
      "outputs": [
        {
          "output_type": "stream",
          "name": "stdout",
          "text": [
            "The number 10 is even\n",
            "The square is : 100\n"
          ]
        }
      ]
    },
    {
      "cell_type": "markdown",
      "source": [
        "# **Let's create our first decorator:**\n",
        "\n",
        "As we have discussed, decorator takes an function as an argument and returns an function and adds new functionality to existing function. One another benefit of decorator is 'Do Not Repeat Yourself', i.e. once you declare a decorator, you can use it on multiple functions.\n",
        "\n",
        "Here we are defining checkEven() decorator, which adds the functionality of checking whether a number is odd or even on top of function passed as an argument. Then in the additional() function, we check the even or odd type of number and called the passed function func(). Then we define a square() function which prints the swuare of number. Then we pass this square(0 function as an argument to checkEven() decorator, which returns function additional() which is stored into variable square_number. Then we pass the argument into square_number() which in turn passed to square()."
      ],
      "metadata": {
        "id": "QPI5qTZW12YQ"
      }
    },
    {
      "cell_type": "code",
      "source": [
        "#Decorartor function\n",
        "def checkEven(func):\n",
        "  def additional(number):\n",
        "    if number%2 == 0:\n",
        "      print(f\"The number {number} is even\")\n",
        "    else:\n",
        "      print(f\"The number {number} is odd\")\n",
        "    func(number)\n",
        "  return additional\n",
        "\n",
        "#Let's define a function which will be passed as an argument to checkEven() decorator\n",
        "def square(number):\n",
        "  print(f\"The square() returns square of number \")\n",
        "  print(f\"square of number is: {number**2}\")\n",
        "\n",
        "#call checkEven() decorator and store retuned function in variable\n",
        "square_number = checkEven(square) \n",
        "#square_number is a function which points out to additional() function\n",
        "#argument passsed into square_number() is passed into func() which is square()\n",
        "square_number(10)\n"
      ],
      "metadata": {
        "colab": {
          "base_uri": "https://localhost:8080/"
        },
        "id": "H2F1rDN512lY",
        "outputId": "572eab0e-accc-4e08-fe28-01394e65f4e6"
      },
      "execution_count": 12,
      "outputs": [
        {
          "output_type": "stream",
          "name": "stdout",
          "text": [
            "The number 10 is even\n",
            "The square() returns square of number \n",
            "square of number is: 100\n"
          ]
        }
      ]
    },
    {
      "cell_type": "markdown",
      "source": [
        "This was the one way of calling decorator. However, python provides an very easy way to call decorators on topof function. We simply use the @decorater_name symbol before the function we'd like to decorate. Here we would like to call the dcorator checkEven on square() function. Here is the way to do this:"
      ],
      "metadata": {
        "id": "kvvUuAUL6nWe"
      }
    },
    {
      "cell_type": "code",
      "source": [
        "@checkEven\n",
        "def square_num(number):\n",
        "  print(f\"The square_num() returns square of number \")\n",
        "  print(f\"square of number is: {number**2}\")\n",
        "\n",
        "square_num(10)"
      ],
      "metadata": {
        "colab": {
          "base_uri": "https://localhost:8080/"
        },
        "id": "FrE_n_Jf6nnp",
        "outputId": "ebfc81f2-beec-42f2-f107-7061d5cc579a"
      },
      "execution_count": 16,
      "outputs": [
        {
          "output_type": "stream",
          "name": "stdout",
          "text": [
            "The number 10 is even\n",
            "The square_num() returns square of number \n",
            "square of number is: 100\n"
          ]
        }
      ]
    },
    {
      "cell_type": "markdown",
      "source": [
        "# Multiple decorators on Single function:\n",
        "We can call multiple decorators on single function also. This is like chaining the execution of function. While calling the multiple decorators, the decorater closese to function is executed first, that is decorators are applied on function in bottom to up direction.\n",
        "We want to find out the exceution time of a function, then we can declare decorator findTime() which will return the time taken in execution."
      ],
      "metadata": {
        "id": "Aqt0BznX8Pc4"
      }
    },
    {
      "cell_type": "code",
      "source": [
        "#declare findTime() decorator\n",
        "def findTime(func):\n",
        "  def additional(number):\n",
        "    import time\n",
        "    start_time = time.time()\n",
        "    func(number)\n",
        "    end_time = time.time()\n",
        "    print(f\"total time taken in exceution is: {end_time - start_time} seconds\")\n",
        "  return additional\n",
        "    \n"
      ],
      "metadata": {
        "id": "ux9Q252Vw32Y"
      },
      "execution_count": 17,
      "outputs": []
    },
    {
      "cell_type": "code",
      "source": [
        "@findTime\n",
        "@checkEven\n",
        "def cube_num(number):\n",
        "  print(f\"The cube_num() returns cube of number \")\n",
        "  print(f\"cube of number is: {number**3}\")\n",
        "\n",
        "cube_num(10)"
      ],
      "metadata": {
        "colab": {
          "base_uri": "https://localhost:8080/"
        },
        "id": "abundWpy80r3",
        "outputId": "a0881419-546d-4190-d488-e43e9428098f"
      },
      "execution_count": 20,
      "outputs": [
        {
          "output_type": "stream",
          "name": "stdout",
          "text": [
            "The number 10 is even\n",
            "The cube_num() returns cube of number \n",
            "cube of number is: 1000\n",
            "total time taken in exceution is: 7.748603820800781e-05 seconds\n"
          ]
        }
      ]
    },
    {
      "cell_type": "code",
      "source": [],
      "metadata": {
        "id": "Z3G2dVwJ8-t8"
      },
      "execution_count": null,
      "outputs": []
    }
  ]
}